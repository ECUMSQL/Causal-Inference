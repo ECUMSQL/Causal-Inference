{
 "cells": [
  {
   "cell_type": "markdown",
   "id": "73bcdc29",
   "metadata": {},
   "source": [
    "## 调用igraph库函数生成任意度分布指数的无标度网络"
   ]
  },
  {
   "cell_type": "code",
   "execution_count": 1,
   "id": "1e3e7fff",
   "metadata": {},
   "outputs": [],
   "source": [
    "import matplotlib.pyplot as plt\n",
    "import igraph as ig"
   ]
  },
  {
   "cell_type": "code",
   "execution_count": 2,
   "id": "e9dfc4f1",
   "metadata": {},
   "outputs": [],
   "source": [
    "# 定义求度分布的函数(注意是针对igraph类型的图)\n",
    "def get_pdf_igraph(G):\n",
    "    all_k = G.degree()\n",
    "    k = list(set(all_k))  # 获取所有可能的度值\n",
    "    N = len(all_k)\n",
    "\n",
    "    Pk = []\n",
    "    for ki in sorted(k):\n",
    "        c = 0\n",
    "        for i in G.vs:\n",
    "            if G.degree(i) == ki:\n",
    "                c += 1\n",
    "        Pk.append(c / N)\n",
    "\n",
    "    return sorted(k), Pk"
   ]
  },
  {
   "cell_type": "code",
   "execution_count": 3,
   "id": "87f85009",
   "metadata": {},
   "outputs": [
    {
     "name": "stdout",
     "output_type": "stream",
     "text": [
      "100000 300000\n"
     ]
    }
   ],
   "source": [
    "N = 100000\n",
    "avk = 6.0\n",
    "L = int(avk*N/2)\n",
    "gamma = 2.1\n",
    "\n",
    "G = ig.Graph.Static_Power_Law(N, L, gamma)\n",
    "print(G.vcount(), G.ecount())"
   ]
  },
  {
   "cell_type": "code",
   "execution_count": 4,
   "id": "772c8a0d",
   "metadata": {},
   "outputs": [
    {
     "ename": "NameError",
     "evalue": "name 'np' is not defined",
     "output_type": "error",
     "traceback": [
      "\u001b[1;31m---------------------------------------------------------------------------\u001b[0m",
      "\u001b[1;31mNameError\u001b[0m                                 Traceback (most recent call last)",
      "\u001b[1;32m<ipython-input-4-1ccfd9f1357d>\u001b[0m in \u001b[0;36m<module>\u001b[1;34m\u001b[0m\n\u001b[0;32m      1\u001b[0m \u001b[0mk\u001b[0m\u001b[1;33m,\u001b[0m \u001b[0mPk\u001b[0m \u001b[1;33m=\u001b[0m \u001b[0mget_pdf_igraph\u001b[0m\u001b[1;33m(\u001b[0m\u001b[0mG\u001b[0m\u001b[1;33m)\u001b[0m\u001b[1;33m\u001b[0m\u001b[1;33m\u001b[0m\u001b[0m\n\u001b[1;32m----> 2\u001b[1;33m \u001b[0mPck\u001b[0m \u001b[1;33m=\u001b[0m \u001b[0mnp\u001b[0m\u001b[1;33m.\u001b[0m\u001b[0marray\u001b[0m\u001b[1;33m(\u001b[0m\u001b[1;33m[\u001b[0m\u001b[0msum\u001b[0m\u001b[1;33m(\u001b[0m\u001b[0mPk\u001b[0m\u001b[1;33m[\u001b[0m\u001b[0mi\u001b[0m\u001b[1;33m:\u001b[0m\u001b[1;33m]\u001b[0m\u001b[1;33m)\u001b[0m \u001b[1;32mfor\u001b[0m \u001b[0mi\u001b[0m \u001b[1;32min\u001b[0m \u001b[0mrange\u001b[0m\u001b[1;33m(\u001b[0m\u001b[0mlen\u001b[0m\u001b[1;33m(\u001b[0m\u001b[0mPk\u001b[0m\u001b[1;33m)\u001b[0m\u001b[1;33m)\u001b[0m\u001b[1;33m]\u001b[0m\u001b[1;33m)\u001b[0m\u001b[1;33m\u001b[0m\u001b[1;33m\u001b[0m\u001b[0m\n\u001b[0m\u001b[0;32m      3\u001b[0m \u001b[1;33m\u001b[0m\u001b[0m\n\u001b[0;32m      4\u001b[0m \u001b[0mplt\u001b[0m\u001b[1;33m.\u001b[0m\u001b[0mfigure\u001b[0m\u001b[1;33m(\u001b[0m\u001b[0mfigsize\u001b[0m\u001b[1;33m=\u001b[0m\u001b[1;33m(\u001b[0m\u001b[1;36m6\u001b[0m\u001b[1;33m,\u001b[0m \u001b[1;36m4.8\u001b[0m\u001b[1;33m)\u001b[0m\u001b[1;33m)\u001b[0m\u001b[1;33m\u001b[0m\u001b[1;33m\u001b[0m\u001b[0m\n\u001b[0;32m      5\u001b[0m \u001b[0mplt\u001b[0m\u001b[1;33m.\u001b[0m\u001b[0mplot\u001b[0m\u001b[1;33m(\u001b[0m\u001b[0mk\u001b[0m\u001b[1;33m,\u001b[0m \u001b[0mPk\u001b[0m\u001b[1;33m,\u001b[0m \u001b[1;34m'ro-'\u001b[0m\u001b[1;33m,\u001b[0m \u001b[0mlabel\u001b[0m\u001b[1;33m=\u001b[0m\u001b[1;34m\"pdf\"\u001b[0m\u001b[1;33m)\u001b[0m\u001b[1;33m\u001b[0m\u001b[1;33m\u001b[0m\u001b[0m\n",
      "\u001b[1;31mNameError\u001b[0m: name 'np' is not defined"
     ]
    }
   ],
   "source": [
    "k, Pk = get_pdf_igraph(G)\n",
    "Pck = np.array([sum(Pk[i:]) for i in range(len(Pk))])\n",
    "\n",
    "plt.figure(figsize=(6, 4.8))\n",
    "plt.plot(k, Pk, 'ro-', label=\"pdf\")\n",
    "plt.plot(k, Pck, 'bs-', label=\"ccdf\")\n",
    "plt.xlabel(\"$k$\")\n",
    "# plt.ylabel(\"$p_k$\")\n",
    "plt.xscale(\"log\")\n",
    "plt.yscale(\"log\")\n",
    "plt.legend(loc=0)\n",
    "\n",
    "plt.show()"
   ]
  },
  {
   "cell_type": "code",
   "execution_count": null,
   "id": "e3d2b9fc",
   "metadata": {},
   "outputs": [],
   "source": []
  }
 ],
 "metadata": {
  "kernelspec": {
   "display_name": "base",
   "language": "python",
   "name": "python3"
  },
  "language_info": {
   "codemirror_mode": {
    "name": "ipython",
    "version": 3
   },
   "file_extension": ".py",
   "mimetype": "text/x-python",
   "name": "python",
   "nbconvert_exporter": "python",
   "pygments_lexer": "ipython3",
   "version": "3.8.8"
  }
 },
 "nbformat": 4,
 "nbformat_minor": 5
}
